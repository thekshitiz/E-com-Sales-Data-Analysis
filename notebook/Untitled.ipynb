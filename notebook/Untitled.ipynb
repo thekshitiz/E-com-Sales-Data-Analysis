{
 "cells": [
  {
   "cell_type": "markdown",
   "id": "9fd4871a-3f05-4cde-a4d5-d7a5da49109c",
   "metadata": {},
   "source": [
    "## Load the Dataset"
   ]
  },
  {
   "cell_type": "code",
   "execution_count": 63,
   "id": "422dfb48-0290-4a21-89e7-a1290e2fc4b6",
   "metadata": {},
   "outputs": [],
   "source": [
    "# importing libraries\n",
    "\n",
    "import pandas as pd\n",
    "import matplotlib.pyplot as plt\n",
    "import seaborn as sns\n",
    "\n",
    "# Set a style for the plots\n",
    "sns.set(style='whitegrid')\n",
    "\n",
    "# Suppressing warnings\n",
    "import warnings\n",
    "warnings.filterwarnings('ignore')\n"
   ]
  },
  {
   "cell_type": "code",
   "execution_count": 4,
   "id": "bf1bd24a-3af0-42e1-8eb5-c2188a8566c4",
   "metadata": {},
   "outputs": [
    {
     "name": "stdout",
     "output_type": "stream",
     "text": [
      "                               order_id  product_id product_name   category  \\\n",
      "0  8b1424e0-1f73-4229-91fa-299bde1e7941        8946         open      Books   \n",
      "1  02374a38-64bf-4034-967e-6cbfaed3f7fd        3252     standard       Toys   \n",
      "2  77745bf4-ed01-4e75-999a-f25f57cd8816        6948      discuss  Furniture   \n",
      "3  2537c981-eae8-452b-bd0a-908fc37b82b4        6717         yeah   Clothing   \n",
      "4  27db871d-58f5-49d1-a7e3-3533998f0b5b        2266         they      Books   \n",
      "\n",
      "    price  quantity  order_date  customer_id marketplace order_status  \\\n",
      "0  236.75         5  2023-09-30         5266       Olist    Delivered   \n",
      "1  252.04         2  2022-11-23         9332        eBay      Pending   \n",
      "2  480.05         3  2024-09-20         8264        eBay      Pending   \n",
      "3  122.04         1  2022-03-15         2538      Amazon      Pending   \n",
      "4  434.80         6  2023-07-01         5412        eBay      Pending   \n",
      "\n",
      "  payment_method  shipment_cost           city           state  \n",
      "0         PayPal          31.59   Matthewville        Arkansas  \n",
      "1  Bank Transfer          43.64    South Linda         Arizona  \n",
      "2         PayPal           6.78  Daniellehaven          Nevada  \n",
      "3  Bank Transfer          21.03  Jacobschester   West Virginia  \n",
      "4         PayPal          45.38  East Brittney  South Carolina  \n"
     ]
    }
   ],
   "source": [
    "# import file \n",
    "\n",
    "df = pd.read_csv('../data/ecom_orders.csv')\n",
    "\n",
    "# Display first five rows of the DataFrame\n",
    "\n",
    "print(df.head())"
   ]
  },
  {
   "cell_type": "markdown",
   "id": "05e7535b-0af7-43e8-b2e4-e55e93555e37",
   "metadata": {},
   "source": [
    "## Clean and Preprocess the Data"
   ]
  },
  {
   "cell_type": "code",
   "execution_count": 6,
   "id": "d1714faf-24b3-4e47-9227-0928ed2a4eb8",
   "metadata": {},
   "outputs": [],
   "source": [
    "# Check for missing values\n",
    "df.isnull().sum()\n",
    "\n",
    "# Fill or drop missing values as needed\n",
    "df = df.dropna()\n",
    "\n",
    "\n",
    "\n",
    "# Convert 'order_date' to datetime and ensure 'quantity' is numeric\n",
    "df['order_date'] = pd.to_datetime(df['order_date'])\n",
    "df['quantity'] = pd.to_numeric(df['quantity'], errors='coerce')\n",
    "\n",
    "# Create 'year_month' column for monthly grouping\n",
    "df['year_month'] = df['order_date'].dt.to_period('M')"
   ]
  },
  {
   "cell_type": "markdown",
   "id": "7c8499b3-3790-4b95-9e5c-a077f747f7c3",
   "metadata": {},
   "source": [
    "## Perform the Required Analysis"
   ]
  },
  {
   "cell_type": "markdown",
   "id": "340479d5-18bf-4bf5-aee5-a5241f36f2d8",
   "metadata": {},
   "source": [
    "### Sales from Top 20 Products"
   ]
  },
  {
   "cell_type": "code",
   "execution_count": 59,
   "id": "d60f1f99-af18-4cca-946f-19e6e68eeb10",
   "metadata": {},
   "outputs": [
    {
     "data": {
      "text/html": [
       "<div>\n",
       "<style scoped>\n",
       "    .dataframe tbody tr th:only-of-type {\n",
       "        vertical-align: middle;\n",
       "    }\n",
       "\n",
       "    .dataframe tbody tr th {\n",
       "        vertical-align: top;\n",
       "    }\n",
       "\n",
       "    .dataframe thead th {\n",
       "        text-align: right;\n",
       "    }\n",
       "</style>\n",
       "<table border=\"1\" class=\"dataframe\">\n",
       "  <thead>\n",
       "    <tr style=\"text-align: right;\">\n",
       "      <th></th>\n",
       "      <th>product_id</th>\n",
       "      <th>quantity</th>\n",
       "      <th>product_name</th>\n",
       "      <th>category</th>\n",
       "    </tr>\n",
       "  </thead>\n",
       "  <tbody>\n",
       "    <tr>\n",
       "      <th>0</th>\n",
       "      <td>8242</td>\n",
       "      <td>150</td>\n",
       "      <td>fill</td>\n",
       "      <td>Clothing</td>\n",
       "    </tr>\n",
       "    <tr>\n",
       "      <th>1</th>\n",
       "      <td>8242</td>\n",
       "      <td>150</td>\n",
       "      <td>professor</td>\n",
       "      <td>Electronics</td>\n",
       "    </tr>\n",
       "    <tr>\n",
       "      <th>2</th>\n",
       "      <td>8242</td>\n",
       "      <td>150</td>\n",
       "      <td>experience</td>\n",
       "      <td>Furniture</td>\n",
       "    </tr>\n",
       "    <tr>\n",
       "      <th>3</th>\n",
       "      <td>8242</td>\n",
       "      <td>150</td>\n",
       "      <td>skill</td>\n",
       "      <td>Electronics</td>\n",
       "    </tr>\n",
       "    <tr>\n",
       "      <th>4</th>\n",
       "      <td>8242</td>\n",
       "      <td>150</td>\n",
       "      <td>investment</td>\n",
       "      <td>Clothing</td>\n",
       "    </tr>\n",
       "  </tbody>\n",
       "</table>\n",
       "</div>"
      ],
      "text/plain": [
       "   product_id  quantity product_name     category\n",
       "0        8242       150         fill     Clothing\n",
       "1        8242       150    professor  Electronics\n",
       "2        8242       150   experience    Furniture\n",
       "3        8242       150        skill  Electronics\n",
       "4        8242       150   investment     Clothing"
      ]
     },
     "execution_count": 59,
     "metadata": {},
     "output_type": "execute_result"
    }
   ],
   "source": [
    "# Group by product_id and sum the quantities\n",
    "top_20_products = df.groupby('product_id')['quantity'].sum().nlargest(20)\n",
    "\n",
    "# Merge with product name and category for more information\n",
    "top_20_products_info = pd.merge(top_20_products.reset_index(), df[['product_id', 'product_name', 'category']].drop_duplicates(), on='product_id')\n",
    "\n",
    "# View the result\n",
    "top_20_products_info.head()\n"
   ]
  },
  {
   "cell_type": "markdown",
   "id": "85f5bec5-af43-4afa-aa0a-731e194c478e",
   "metadata": {},
   "source": [
    "### Top 20 Products in Each Month"
   ]
  },
  {
   "cell_type": "code",
   "execution_count": 50,
   "id": "c31090c3-0e18-4683-8169-4df2596e8850",
   "metadata": {},
   "outputs": [
    {
     "data": {
      "text/html": [
       "<div>\n",
       "<style scoped>\n",
       "    .dataframe tbody tr th:only-of-type {\n",
       "        vertical-align: middle;\n",
       "    }\n",
       "\n",
       "    .dataframe tbody tr th {\n",
       "        vertical-align: top;\n",
       "    }\n",
       "\n",
       "    .dataframe thead th {\n",
       "        text-align: right;\n",
       "    }\n",
       "</style>\n",
       "<table border=\"1\" class=\"dataframe\">\n",
       "  <thead>\n",
       "    <tr style=\"text-align: right;\">\n",
       "      <th></th>\n",
       "      <th>year_month</th>\n",
       "      <th>product_id</th>\n",
       "      <th>quantity</th>\n",
       "      <th>product_name</th>\n",
       "      <th>category</th>\n",
       "    </tr>\n",
       "  </thead>\n",
       "  <tbody>\n",
       "    <tr>\n",
       "      <th>0</th>\n",
       "      <td>2021-10</td>\n",
       "      <td>9556</td>\n",
       "      <td>31</td>\n",
       "      <td>thing</td>\n",
       "      <td>Toys</td>\n",
       "    </tr>\n",
       "    <tr>\n",
       "      <th>1</th>\n",
       "      <td>2021-10</td>\n",
       "      <td>9556</td>\n",
       "      <td>31</td>\n",
       "      <td>year</td>\n",
       "      <td>Books</td>\n",
       "    </tr>\n",
       "    <tr>\n",
       "      <th>2</th>\n",
       "      <td>2021-10</td>\n",
       "      <td>9556</td>\n",
       "      <td>31</td>\n",
       "      <td>throughout</td>\n",
       "      <td>Books</td>\n",
       "    </tr>\n",
       "    <tr>\n",
       "      <th>3</th>\n",
       "      <td>2021-10</td>\n",
       "      <td>9556</td>\n",
       "      <td>31</td>\n",
       "      <td>enter</td>\n",
       "      <td>Electronics</td>\n",
       "    </tr>\n",
       "    <tr>\n",
       "      <th>4</th>\n",
       "      <td>2021-10</td>\n",
       "      <td>9556</td>\n",
       "      <td>31</td>\n",
       "      <td>city</td>\n",
       "      <td>Clothing</td>\n",
       "    </tr>\n",
       "  </tbody>\n",
       "</table>\n",
       "</div>"
      ],
      "text/plain": [
       "  year_month  product_id  quantity product_name     category\n",
       "0    2021-10        9556        31        thing         Toys\n",
       "1    2021-10        9556        31         year        Books\n",
       "2    2021-10        9556        31   throughout        Books\n",
       "3    2021-10        9556        31        enter  Electronics\n",
       "4    2021-10        9556        31         city     Clothing"
      ]
     },
     "execution_count": 50,
     "metadata": {},
     "output_type": "execute_result"
    }
   ],
   "source": [
    "# Convert order_date to datetime\n",
    "df['order_date'] = pd.to_datetime(df['order_date'])\n",
    "\n",
    "# Extract year and month\n",
    "df['year_month'] = df['order_date'].dt.to_period('M')\n",
    "\n",
    "# Group by year_month and product_id, and calculate total sales quantity\n",
    "monthly_top_20 = df.groupby(['year_month', 'product_id'])['quantity'].sum().reset_index()\n",
    "\n",
    "# Sort by each month and get the top 20 products\n",
    "monthly_top_20 = monthly_top_20.groupby('year_month').apply(lambda x: x.nlargest(20, 'quantity')).reset_index(drop=True)\n",
    "\n",
    "# Merge with product name and category for more information\n",
    "monthly_top_20_info = pd.merge(monthly_top_20, df[['product_id', 'product_name', 'category']].drop_duplicates(), on='product_id')\n",
    "\n",
    "# View the result\n",
    "monthly_top_20_info.head()\n"
   ]
  },
  {
   "cell_type": "markdown",
   "id": "cb391c32-6dfc-44ad-9a39-d463b02b7420",
   "metadata": {},
   "source": [
    "### Top 1%, 5% Product Sales in Each Month"
   ]
  },
  {
   "cell_type": "markdown",
   "id": "1850fb6c-4d5b-40b2-82fa-3ebcd7cb3fed",
   "metadata": {},
   "source": [
    "#### Calculate Percentile Values"
   ]
  },
  {
   "cell_type": "code",
   "execution_count": 40,
   "id": "b1784ec8-e9b9-4fdf-8c60-ba5c9fcf045d",
   "metadata": {},
   "outputs": [
    {
     "data": {
      "text/html": [
       "<div>\n",
       "<style scoped>\n",
       "    .dataframe tbody tr th:only-of-type {\n",
       "        vertical-align: middle;\n",
       "    }\n",
       "\n",
       "    .dataframe tbody tr th {\n",
       "        vertical-align: top;\n",
       "    }\n",
       "\n",
       "    .dataframe thead th {\n",
       "        text-align: right;\n",
       "    }\n",
       "</style>\n",
       "<table border=\"1\" class=\"dataframe\">\n",
       "  <thead>\n",
       "    <tr style=\"text-align: right;\">\n",
       "      <th></th>\n",
       "      <th></th>\n",
       "      <th>product_id</th>\n",
       "      <th>quantity</th>\n",
       "    </tr>\n",
       "    <tr>\n",
       "      <th>year_month</th>\n",
       "      <th></th>\n",
       "      <th></th>\n",
       "      <th></th>\n",
       "    </tr>\n",
       "  </thead>\n",
       "  <tbody>\n",
       "    <tr>\n",
       "      <th rowspan=\"5\" valign=\"top\">2021-10</th>\n",
       "      <th>1340</th>\n",
       "      <td>9556</td>\n",
       "      <td>31</td>\n",
       "    </tr>\n",
       "    <tr>\n",
       "      <th>107</th>\n",
       "      <td>1804</td>\n",
       "      <td>20</td>\n",
       "    </tr>\n",
       "    <tr>\n",
       "      <th>539</th>\n",
       "      <td>4310</td>\n",
       "      <td>20</td>\n",
       "    </tr>\n",
       "    <tr>\n",
       "      <th>917</th>\n",
       "      <td>6840</td>\n",
       "      <td>19</td>\n",
       "    </tr>\n",
       "    <tr>\n",
       "      <th>929</th>\n",
       "      <td>6903</td>\n",
       "      <td>19</td>\n",
       "    </tr>\n",
       "  </tbody>\n",
       "</table>\n",
       "</div>"
      ],
      "text/plain": [
       "                 product_id  quantity\n",
       "year_month                           \n",
       "2021-10    1340        9556        31\n",
       "           107         1804        20\n",
       "           539         4310        20\n",
       "           917         6840        19\n",
       "           929         6903        19"
      ]
     },
     "execution_count": 40,
     "metadata": {},
     "output_type": "execute_result"
    }
   ],
   "source": [
    "# Function to calculate top N percent of products\n",
    "def top_percent(df, percent):\n",
    "    top_n = int(len(df) * percent / 100)\n",
    "    return df.nlargest(top_n, 'quantity')\n",
    "\n",
    "# Calculate top 1% and 5% for each month\n",
    "top_1_percent = df.groupby('year_month').apply(lambda x: top_percent(x.groupby('product_id')['quantity'].sum().reset_index(), 1))\n",
    "top_5_percent = df.groupby('year_month').apply(lambda x: top_percent(x.groupby('product_id')['quantity'].sum().reset_index(), 5))\n",
    "\n",
    "# View the results\n",
    "top_1_percent.head()\n",
    "top_5_percent.head()\n"
   ]
  },
  {
   "cell_type": "markdown",
   "id": "6052e3cb-e86f-4ccb-be51-97ed8abcb1af",
   "metadata": {},
   "source": [
    "### Top Product Sales in Each Category"
   ]
  },
  {
   "cell_type": "code",
   "execution_count": 42,
   "id": "55caba00-1ec9-41fb-8ef8-f352ef857df4",
   "metadata": {},
   "outputs": [
    {
     "data": {
      "text/html": [
       "<div>\n",
       "<style scoped>\n",
       "    .dataframe tbody tr th:only-of-type {\n",
       "        vertical-align: middle;\n",
       "    }\n",
       "\n",
       "    .dataframe tbody tr th {\n",
       "        vertical-align: top;\n",
       "    }\n",
       "\n",
       "    .dataframe thead th {\n",
       "        text-align: right;\n",
       "    }\n",
       "</style>\n",
       "<table border=\"1\" class=\"dataframe\">\n",
       "  <thead>\n",
       "    <tr style=\"text-align: right;\">\n",
       "      <th></th>\n",
       "      <th>category</th>\n",
       "      <th>product_id</th>\n",
       "      <th>quantity</th>\n",
       "      <th>product_name</th>\n",
       "    </tr>\n",
       "  </thead>\n",
       "  <tbody>\n",
       "    <tr>\n",
       "      <th>0</th>\n",
       "      <td>Beauty</td>\n",
       "      <td>6783</td>\n",
       "      <td>56</td>\n",
       "      <td>my</td>\n",
       "    </tr>\n",
       "    <tr>\n",
       "      <th>1</th>\n",
       "      <td>Beauty</td>\n",
       "      <td>6783</td>\n",
       "      <td>56</td>\n",
       "      <td>adult</td>\n",
       "    </tr>\n",
       "    <tr>\n",
       "      <th>2</th>\n",
       "      <td>Beauty</td>\n",
       "      <td>6783</td>\n",
       "      <td>56</td>\n",
       "      <td>into</td>\n",
       "    </tr>\n",
       "    <tr>\n",
       "      <th>3</th>\n",
       "      <td>Beauty</td>\n",
       "      <td>6783</td>\n",
       "      <td>56</td>\n",
       "      <td>seat</td>\n",
       "    </tr>\n",
       "    <tr>\n",
       "      <th>4</th>\n",
       "      <td>Beauty</td>\n",
       "      <td>6783</td>\n",
       "      <td>56</td>\n",
       "      <td>age</td>\n",
       "    </tr>\n",
       "  </tbody>\n",
       "</table>\n",
       "</div>"
      ],
      "text/plain": [
       "  category  product_id  quantity product_name\n",
       "0   Beauty        6783        56           my\n",
       "1   Beauty        6783        56        adult\n",
       "2   Beauty        6783        56         into\n",
       "3   Beauty        6783        56         seat\n",
       "4   Beauty        6783        56          age"
      ]
     },
     "execution_count": 42,
     "metadata": {},
     "output_type": "execute_result"
    }
   ],
   "source": [
    "# Group by category and product_id, and sum the quantities\n",
    "category_top_products = df.groupby(['category', 'product_id'])['quantity'].sum().reset_index()\n",
    "\n",
    "# Sort by each category and get the top product\n",
    "category_top_product = category_top_products.groupby('category').apply(lambda x: x.nlargest(1, 'quantity')).reset_index(drop=True)\n",
    "\n",
    "# Merge with product name for more information\n",
    "category_top_product_info = pd.merge(category_top_product, df[['product_id', 'product_name']].drop_duplicates(), on='product_id')\n",
    "\n",
    "# View the result\n",
    "category_top_product_info.head()\n"
   ]
  }
 ],
 "metadata": {
  "kernelspec": {
   "display_name": "Python 3 (ipykernel)",
   "language": "python",
   "name": "python3"
  },
  "language_info": {
   "codemirror_mode": {
    "name": "ipython",
    "version": 3
   },
   "file_extension": ".py",
   "mimetype": "text/x-python",
   "name": "python",
   "nbconvert_exporter": "python",
   "pygments_lexer": "ipython3",
   "version": "3.12.4"
  }
 },
 "nbformat": 4,
 "nbformat_minor": 5
}
